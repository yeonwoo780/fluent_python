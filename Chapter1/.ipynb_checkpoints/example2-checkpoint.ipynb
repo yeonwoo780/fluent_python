{
 "cells": [
  {
   "cell_type": "code",
   "execution_count": 1,
   "id": "70635bbf-c5fb-4edc-be8c-a77cee42bc45",
   "metadata": {},
   "outputs": [],
   "source": [
    "from Vector import Vector"
   ]
  },
  {
   "cell_type": "code",
   "execution_count": 2,
   "id": "36cfdb98-ca2e-4673-af19-e14ba932d999",
   "metadata": {},
   "outputs": [
    {
     "data": {
      "text/plain": [
       "Vector(4, 5)"
      ]
     },
     "execution_count": 2,
     "metadata": {},
     "output_type": "execute_result"
    }
   ],
   "source": [
    "v1 = Vector(2, 4)\n",
    "v2 = Vector(2, 1)\n",
    "v1 + v2"
   ]
  },
  {
   "cell_type": "code",
   "execution_count": 3,
   "id": "e137c13a-d687-41a1-aff7-c8357b51d72b",
   "metadata": {},
   "outputs": [
    {
     "data": {
      "text/plain": [
       "5.0"
      ]
     },
     "execution_count": 3,
     "metadata": {},
     "output_type": "execute_result"
    }
   ],
   "source": [
    "v = Vector(3, 4)\n",
    "abs(v)"
   ]
  },
  {
   "cell_type": "code",
   "execution_count": 4,
   "id": "1b33c895-3ba1-4849-812d-3b6e9059ea11",
   "metadata": {},
   "outputs": [
    {
     "data": {
      "text/plain": [
       "Vector(9, 12)"
      ]
     },
     "execution_count": 4,
     "metadata": {},
     "output_type": "execute_result"
    }
   ],
   "source": [
    "v * 3"
   ]
  },
  {
   "cell_type": "code",
   "execution_count": 5,
   "id": "a684fefd-c05e-4fd7-8c97-5e25e13b5b8f",
   "metadata": {},
   "outputs": [
    {
     "data": {
      "text/plain": [
       "15.0"
      ]
     },
     "execution_count": 5,
     "metadata": {},
     "output_type": "execute_result"
    }
   ],
   "source": [
    "abs(v * 3)"
   ]
  },
  {
   "cell_type": "code",
   "execution_count": null,
   "id": "cf4f0469-1a55-4bf8-b1cb-c79ff1d5261f",
   "metadata": {},
   "outputs": [],
   "source": []
  }
 ],
 "metadata": {
  "kernelspec": {
   "display_name": "Python 3 (ipykernel)",
   "language": "python",
   "name": "python3"
  },
  "language_info": {
   "codemirror_mode": {
    "name": "ipython",
    "version": 3
   },
   "file_extension": ".py",
   "mimetype": "text/x-python",
   "name": "python",
   "nbconvert_exporter": "python",
   "pygments_lexer": "ipython3",
   "version": "3.9.9"
  }
 },
 "nbformat": 4,
 "nbformat_minor": 5
}
